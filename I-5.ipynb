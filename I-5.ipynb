{
 "cells": [
  {
   "cell_type": "markdown",
   "metadata": {},
   "source": [
    "### Задания к уроку 4"
   ]
  },
  {
   "cell_type": "markdown",
   "metadata": {},
   "source": [
    "1. Напишите код, моделирующий выпадение поля в рулетке (с учетом поля зеро)."
   ]
  },
  {
   "cell_type": "code",
   "execution_count": 8,
   "metadata": {},
   "outputs": [
    {
     "name": "stdout",
     "output_type": "stream",
     "text": [
      "Нажмите любую клавишу, для завершения нажмите 0\n",
      "\n",
      "Выпало число 21 \n",
      "для повторения нажмите любую клавишу \n",
      "для выхода нажмите 0\n",
      "\n",
      "Выпало число 24 \n",
      "для повторения нажмите любую клавишу \n",
      "для выхода нажмите 0\n",
      "\n",
      "Выпало число 25 \n",
      "для повторения нажмите любую клавишу \n",
      "для выхода нажмите 0\n",
      "0\n"
     ]
    }
   ],
   "source": [
    "import numpy as np\n",
    "\n",
    "print(\"Нажмите любую клавишу, для завершения нажмите 0\")\n",
    "while input() != '0':\n",
    "    print(f\"Выпало число {np.random.randint(37)} \\nдля повторения нажмите любую клавишу \\nдля выхода нажмите 0\")"
   ]
  },
  {
   "cell_type": "markdown",
   "metadata": {},
   "source": [
    "2. \n",
    " - Напишите код, проверяющий любую из теорем сложения или умножения вероятности на примере рулетки или подбрасывания монетки."
   ]
  },
  {
   "cell_type": "code",
   "execution_count": 13,
   "metadata": {},
   "outputs": [
    {
     "name": "stdout",
     "output_type": "stream",
     "text": [
      "Итоговая вероятность при 100000 испытаний составила 0.07959\n"
     ]
    }
   ],
   "source": [
    "# пусть имеется две рулетки. Найдем вероятность того, что на первой выпадет число больше 30, а на второй не четное число:\n",
    "# решение - вероятность выпадения чила больше 30 = 6/37, вероятность выпадения нечетного числа - 18/37.\n",
    "# тогда итоговая вероятность 108/1369 или примерно 0,079\n",
    "\n",
    "n = 100000 #число испытаний\n",
    "P = 0 # счетчик совпадения требуемых условий\n",
    "for i in range(n):\n",
    "    x1, x2 = np.random.randint(37, size=2)\n",
    "    if x1 > 30 and x2 % 2 == 1:\n",
    "        P+= 1\n",
    "print(f\"Итоговая вероятность при {n} испытаний составила {P/n}\")"
   ]
  },
  {
   "cell_type": "markdown",
   "metadata": {},
   "source": [
    " - Сгенерируйте десять выборок случайных чисел х0, …, х9. и постройте гистограмму распределения случайной суммы х0+х1+ …+ х9."
   ]
  },
  {
   "cell_type": "code",
   "execution_count": 31,
   "metadata": {},
   "outputs": [
    {
     "name": "stdout",
     "output_type": "stream",
     "text": [
      "[5.41601212888623, 4.715009361605369, 4.3712190923561804, 4.3591447477089718, 4.6430288325730471, 6.5427314269594943, 5.752740077371131, 3.0677110146044284, 5.3733826565041891, 5.2077600865886584]\n"
     ]
    },
    {
     "data": {
      "text/plain": [
       "(array([ 1.,  4.,  3.,  2.]),\n",
       " array([ 3.06771101,  3.93646612,  4.80522122,  5.67397632,  6.54273143]),\n",
       " <a list of 4 Patch objects>)"
      ]
     },
     "execution_count": 31,
     "metadata": {},
     "output_type": "execute_result"
    },
    {
     "data": {
      "image/png": "[encoded data removed]",
      "text/plain": [
       "<matplotlib.figure.Figure at 0x8ec30b8>"
      ]
     },
     "metadata": {},
     "output_type": "display_data"
    }
   ],
   "source": [
    "import matplotlib.pyplot as plt\n",
    "%matplotlib inline\n",
    "\n",
    "x = np.random.rand(10, 10)\n",
    "P = np.zeros(10)\n",
    "P = [sum(x[i, :]) for i in range(10)]\n",
    "print(P)\n",
    "plt.hist(P, 4)"
   ]
  },
  {
   "cell_type": "markdown",
   "metadata": {},
   "source": [
    "3. \n",
    " - Дополните код Монте-Карло последовательности независимых испытаний расчетом соответствующих вероятностей (через биномиальное распределение) и сравните результаты."
   ]
  },
  {
   "cell_type": "code",
   "execution_count": 73,
   "metadata": {},
   "outputs": [
    {
     "name": "stdout",
     "output_type": "stream",
     "text": [
      "3772 10000 0.3772\n",
      "Коэффициент Cnk равен 6.0\n",
      "Расчетное значение вероятности 2 успехов при 4 испытаниях составляет 0.375\n"
     ]
    }
   ],
   "source": [
    "k, n = 0, 10000\n",
    "a, b, c, d = [np.random.randint(2, size=n) for i in range(4)]\n",
    "x = a + b + c + d\n",
    "for i in range(n):\n",
    "    if x[i] == 2:\n",
    "        k += 1 \n",
    "print(k, n, k/n)\n",
    "# расчет значения\n",
    "n1, k1 = 4, 2\n",
    "Cnk = np.math.factorial(n1)/(np.math.factorial(k1)*np.math.factorial(n1 - k1))\n",
    "print(f\"Коэффициент Cnk равен {Cnk}\")\n",
    "print(f\"Расчетное значение вероятности {k1} успехов при {n1} испытаниях составляет {Cnk/2**n1}\")\n",
    "    "
   ]
  },
  {
   "cell_type": "markdown",
   "metadata": {},
   "source": [
    " - Повторите расчеты биномиальных коэффициентов и вероятностей k успехов в последовательности из n независимых испытаний, взяв другие значения n и k."
   ]
  },
  {
   "cell_type": "code",
   "execution_count": 83,
   "metadata": {},
   "outputs": [
    {
     "name": "stdout",
     "output_type": "stream",
     "text": [
      "Коэффициент Cnk равен 2380.0\n",
      "Расчетное значение вероятности 4 успехов при 17 испытаниях составляет 0.018157958984375\n"
     ]
    }
   ],
   "source": [
    "n1 = np.random.randint(10, 20)\n",
    "k1 = np.random.randint(1, n1)\n",
    "Cnk = np.math.factorial(n1)/(np.math.factorial(k1)*np.math.factorial(n1 - k1))\n",
    "print(f\"Коэффициент Cnk равен {Cnk}\")\n",
    "print(f\"Расчетное значение вероятности {k1} успехов при {n1} испытаниях составляет {Cnk/2**n1}\")"
   ]
  },
  {
   "cell_type": "markdown",
   "metadata": {},
   "source": [
    "4. Из урока по комбинаторике повторите расчеты, сгенерировав возможные варианты перестановок для других значений n и k"
   ]
  },
  {
   "cell_type": "code",
   "execution_count": 26,
   "metadata": {},
   "outputs": [
    {
     "name": "stdout",
     "output_type": "stream",
     "text": [
      "Число размещений 3 из 6 равно 120:\n",
      "012\n",
      "013\n",
      "014\n",
      "015\n",
      "021\n",
      "023\n",
      "024\n",
      "025\n",
      "031\n",
      "032\n",
      "034\n",
      "035\n",
      "041\n",
      "042\n",
      "043\n",
      "045\n",
      "051\n",
      "052\n",
      "053\n",
      "054\n",
      "102\n",
      "103\n",
      "104\n",
      "105\n",
      "120\n",
      "123\n",
      "124\n",
      "125\n",
      "130\n",
      "132\n",
      "134\n",
      "135\n",
      "140\n",
      "142\n",
      "143\n",
      "145\n",
      "150\n",
      "152\n",
      "153\n",
      "154\n",
      "201\n",
      "203\n",
      "204\n",
      "205\n",
      "210\n",
      "213\n",
      "214\n",
      "215\n",
      "230\n",
      "231\n",
      "234\n",
      "235\n",
      "240\n",
      "241\n",
      "243\n",
      "245\n",
      "250\n",
      "251\n",
      "253\n",
      "254\n",
      "301\n",
      "302\n",
      "304\n",
      "305\n",
      "310\n",
      "312\n",
      "314\n",
      "315\n",
      "320\n",
      "321\n",
      "324\n",
      "325\n",
      "340\n",
      "341\n",
      "342\n",
      "345\n",
      "350\n",
      "351\n",
      "352\n",
      "354\n",
      "401\n",
      "402\n",
      "403\n",
      "405\n",
      "410\n",
      "412\n",
      "413\n",
      "415\n",
      "420\n",
      "421\n",
      "423\n",
      "425\n",
      "430\n",
      "431\n",
      "432\n",
      "435\n",
      "450\n",
      "451\n",
      "452\n",
      "453\n",
      "501\n",
      "502\n",
      "503\n",
      "504\n",
      "510\n",
      "512\n",
      "513\n",
      "514\n",
      "520\n",
      "521\n",
      "523\n",
      "524\n",
      "530\n",
      "531\n",
      "532\n",
      "534\n",
      "540\n",
      "541\n",
      "542\n",
      "543\n"
     ]
    }
   ],
   "source": [
    "import itertools\n",
    "\n",
    "n = np.random.randint(2, 7)\n",
    "k = np.random.randint(1, n)\n",
    "\n",
    "def Ank(n, k):\n",
    "    cnt = 1\n",
    "    for i in range (n - k + 1, n + 1):\n",
    "        cnt *= i\n",
    "    return cnt\n",
    "\n",
    "print(f\"Число размещений {k} из {n} равно {Ank(n, k)}:\")\n",
    "for p in itertools.permutations(range(n), k):\n",
    "    print(\"\".join(str(x) for x in p))"
   ]
  },
  {
   "cell_type": "code",
   "execution_count": 19,
   "metadata": {},
   "outputs": [
    {
     "data": {
      "text/plain": [
       "60"
      ]
     },
     "execution_count": 19,
     "metadata": {},
     "output_type": "execute_result"
    }
   ],
   "source": [
    "Ank(5, 3)"
   ]
  },
  {
   "cell_type": "markdown",
   "metadata": {},
   "source": [
    "5. Дополните код расчетом коэффициента корреляции x и y по формуле"
   ]
  },
  {
   "cell_type": "code",
   "execution_count": 36,
   "metadata": {},
   "outputs": [
    {
     "name": "stdout",
     "output_type": "stream",
     "text": [
      "0.682722606461 0.152710935147\n",
      "0.682722606461 0.152710935147\n"
     ]
    },
    {
     "data": {
      "image/png": "[encoded data removed]",
      "text/plain": [
       "<matplotlib.figure.Figure at 0x90e3dd8>"
      ]
     },
     "metadata": {},
     "output_type": "display_data"
    }
   ],
   "source": [
    "n, r = 100, 0.7\n",
    "x = np.random.rand(n)\n",
    "y = r*x + (1 - r)*np.random.rand(n)\n",
    "plt.plot(x, y, 'o')\n",
    "plt.xlabel('x')\n",
    "plt.ylabel('y')\n",
    "plt.grid('True')\n",
    "\n",
    "a = (np.sum(x)*np.sum(y) - n*np.sum(x*y))/(np.sum(x)**2 - n*np.sum(x*x))\n",
    "b = (np.sum(y) - a*np.sum(x))/n\n",
    "A = np.vstack([x, np.ones(len(x))]).T\n",
    "a1, b1 = np.linalg.lstsq(A, y)[0]\n",
    "print(a, b)\n",
    "print(a1, b1)\n",
    "plt.plot([0, 1], [b, a + b])\n",
    "plt.show()"
   ]
  },
  {
   "cell_type": "code",
   "execution_count": 50,
   "metadata": {},
   "outputs": [
    {
     "name": "stdout",
     "output_type": "stream",
     "text": [
      "0.918613192645\n"
     ]
    },
    {
     "data": {
      "text/plain": [
       "array([[ 1.        ,  0.91861319],\n",
       "       [ 0.91861319,  1.        ]])"
      ]
     },
     "execution_count": 50,
     "metadata": {},
     "output_type": "execute_result"
    }
   ],
   "source": [
    "xm = sum(x)/n\n",
    "ym = sum(y)/n\n",
    "x1 = x - xm\n",
    "y1 = y - ym\n",
    "R = sum(x1*y1)/(sum(x1**2)*sum(y1**2))**0.5\n",
    "print(R)\n",
    "np.corrcoef(x, y)"
   ]
  }
 ],
 "metadata": {
  "kernelspec": {
   "display_name": "Python 3",
   "language": "python",
   "name": "python3"
  },
  "language_info": {
   "codemirror_mode": {
    "name": "ipython",
    "version": 3
   },
   "file_extension": ".py",
   "mimetype": "text/x-python",
   "name": "python",
   "nbconvert_exporter": "python",
   "pygments_lexer": "ipython3",
   "version": "3.6.3"
  }
 },
 "nbformat": 4,
 "nbformat_minor": 2
}
